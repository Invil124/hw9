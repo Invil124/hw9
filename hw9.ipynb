{
 "cells": [
  {
   "cell_type": "code",
   "execution_count": 1,
   "id": "2d86d739",
   "metadata": {},
   "outputs": [],
   "source": [
    "import numpy as np\n",
    "from tensorflow import keras\n",
    "from keras import regularizers"
   ]
  },
  {
   "cell_type": "code",
   "execution_count": 2,
   "id": "d24b85be",
   "metadata": {},
   "outputs": [],
   "source": [
    "fashion_mnist = keras.datasets.fashion_mnist\n",
    "(train_images, train_labels), (test_images, test_labels) = fashion_mnist.load_data()"
   ]
  },
  {
   "cell_type": "code",
   "execution_count": 3,
   "id": "5b87577f",
   "metadata": {},
   "outputs": [],
   "source": [
    "train_images = train_images / 255.0\n",
    "test_images = test_images / 255.0"
   ]
  },
  {
   "cell_type": "code",
   "execution_count": 4,
   "id": "345f2169",
   "metadata": {},
   "outputs": [],
   "source": [
    "model = keras.Sequential([\n",
    "    keras.layers.Flatten(input_shape=(28, 28)),\n",
    "    keras.layers.Dense(256, activation='relu'),\n",
    "    keras.layers.Dense(128, activation='relu'),\n",
    "    keras.layers.Dropout(0.5),\n",
    "    keras.layers.Dense(10, activation='softmax')\n",
    "])"
   ]
  },
  {
   "cell_type": "code",
   "execution_count": 5,
   "id": "a9ba2240",
   "metadata": {
    "scrolled": true
   },
   "outputs": [],
   "source": [
    "model.compile(optimizer='Adamax',\n",
    "              loss='sparse_categorical_crossentropy',\n",
    "              metrics=['accuracy'])"
   ]
  },
  {
   "cell_type": "code",
   "execution_count": null,
   "id": "db91340a",
   "metadata": {
    "scrolled": false
   },
   "outputs": [
    {
     "name": "stdout",
     "output_type": "stream",
     "text": [
      "Epoch 1/35\n",
      "938/938 [==============================] - 3s 2ms/step - loss: 0.6741 - accuracy: 0.7711\n",
      "Epoch 2/35\n",
      "938/938 [==============================] - 2s 3ms/step - loss: 0.4642 - accuracy: 0.8398\n",
      "Epoch 3/35\n",
      "938/938 [==============================] - 2s 2ms/step - loss: 0.4130 - accuracy: 0.8563\n",
      "Epoch 4/35\n",
      "938/938 [==============================] - 2s 3ms/step - loss: 0.3842 - accuracy: 0.8650\n",
      "Epoch 5/35\n",
      "938/938 [==============================] - 2s 2ms/step - loss: 0.3612 - accuracy: 0.8724\n",
      "Epoch 6/35\n",
      "938/938 [==============================] - 2s 2ms/step - loss: 0.3432 - accuracy: 0.8785\n",
      "Epoch 7/35\n",
      "938/938 [==============================] - 2s 2ms/step - loss: 0.3307 - accuracy: 0.8829\n",
      "Epoch 8/35\n",
      "938/938 [==============================] - 2s 2ms/step - loss: 0.3180 - accuracy: 0.8863\n",
      "Epoch 9/35\n",
      "938/938 [==============================] - 2s 2ms/step - loss: 0.3076 - accuracy: 0.8881\n",
      "Epoch 10/35\n",
      "938/938 [==============================] - 2s 2ms/step - loss: 0.2989 - accuracy: 0.8931\n",
      "Epoch 11/35\n",
      "938/938 [==============================] - 2s 2ms/step - loss: 0.2903 - accuracy: 0.8950\n",
      "Epoch 12/35\n",
      "938/938 [==============================] - 2s 2ms/step - loss: 0.2828 - accuracy: 0.8973\n",
      "Epoch 13/35\n",
      "938/938 [==============================] - 2s 2ms/step - loss: 0.2759 - accuracy: 0.9009\n",
      "Epoch 14/35\n",
      "938/938 [==============================] - 2s 2ms/step - loss: 0.2684 - accuracy: 0.9021\n",
      "Epoch 15/35\n",
      "938/938 [==============================] - 2s 2ms/step - loss: 0.2611 - accuracy: 0.9047\n",
      "Epoch 16/35\n",
      "938/938 [==============================] - 2s 2ms/step - loss: 0.2580 - accuracy: 0.9057\n",
      "Epoch 17/35\n",
      "  1/938 [..............................] - ETA: 3s - loss: 0.3413 - accuracy: 0.9062"
     ]
    }
   ],
   "source": [
    "model.fit(train_images, train_labels, epochs=35, batch_size=64)"
   ]
  },
  {
   "cell_type": "code",
   "execution_count": null,
   "id": "0dcb8c89",
   "metadata": {
    "scrolled": true
   },
   "outputs": [],
   "source": [
    "test_loss, test_acc = model.evaluate(test_images, test_labels)\n",
    "print('Test accuracy:', test_acc)"
   ]
  }
 ],
 "metadata": {
  "kernelspec": {
   "display_name": "Python 3 (ipykernel)",
   "language": "python",
   "name": "python3"
  },
  "language_info": {
   "codemirror_mode": {
    "name": "ipython",
    "version": 3
   },
   "file_extension": ".py",
   "mimetype": "text/x-python",
   "name": "python",
   "nbconvert_exporter": "python",
   "pygments_lexer": "ipython3",
   "version": "3.10.9"
  }
 },
 "nbformat": 4,
 "nbformat_minor": 5
}
