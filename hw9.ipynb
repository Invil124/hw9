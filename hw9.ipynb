{
 "cells": [
  {
   "cell_type": "code",
   "execution_count": 1,
   "id": "2d86d739",
   "metadata": {},
   "outputs": [],
   "source": [
    "import numpy as np\n",
    "from tensorflow import keras\n",
    "from keras import regularizers"
   ]
  },
  {
   "cell_type": "code",
   "execution_count": 2,
   "id": "d24b85be",
   "metadata": {},
   "outputs": [],
   "source": [
    "fashion_mnist = keras.datasets.fashion_mnist\n",
    "(train_images, train_labels), (test_images, test_labels) = fashion_mnist.load_data()"
   ]
  },
  {
   "cell_type": "code",
   "execution_count": 3,
   "id": "5b87577f",
   "metadata": {},
   "outputs": [],
   "source": [
    "train_images = train_images / 255.0\n",
    "test_images = test_images / 255.0"
   ]
  },
  {
   "cell_type": "code",
   "execution_count": 4,
   "id": "fc3908ab",
   "metadata": {},
   "outputs": [],
   "source": [
    "train_images = train_images.reshape(-1, 784)\n",
    "test_images = test_images.reshape(-1, 784)"
   ]
  },
  {
   "cell_type": "code",
   "execution_count": 5,
   "id": "345f2169",
   "metadata": {},
   "outputs": [],
   "source": [
    "model = keras.Sequential()\n",
    "model.add(keras.layers.Dense(256, activation='relu'))\n",
    "model.add(keras.layers.Dense(128, activation='relu'))\n",
    "model.add(keras.layers.Dropout(0.2))\n",
    "model.add(keras.layers.Dense(10, activation='softmax'))"
   ]
  },
  {
   "cell_type": "code",
   "execution_count": 6,
   "id": "a9ba2240",
   "metadata": {
    "scrolled": true
   },
   "outputs": [],
   "source": [
    "model.compile(optimizer='Adamax',\n",
    "              loss='sparse_categorical_crossentropy',\n",
    "              metrics=['accuracy'])"
   ]
  },
  {
   "cell_type": "code",
   "execution_count": 7,
   "id": "db91340a",
   "metadata": {
    "scrolled": true
   },
   "outputs": [
    {
     "name": "stdout",
     "output_type": "stream",
     "text": [
      "Epoch 1/35\n",
      "938/938 [==============================] - 2s 2ms/step - loss: 0.5697 - accuracy: 0.8047\n",
      "Epoch 2/35\n",
      "938/938 [==============================] - 2s 2ms/step - loss: 0.4098 - accuracy: 0.8544\n",
      "Epoch 3/35\n",
      "938/938 [==============================] - 2s 2ms/step - loss: 0.3690 - accuracy: 0.8677\n",
      "Epoch 4/35\n",
      "938/938 [==============================] - 2s 2ms/step - loss: 0.3414 - accuracy: 0.8765\n",
      "Epoch 5/35\n",
      "938/938 [==============================] - 2s 2ms/step - loss: 0.3221 - accuracy: 0.8831\n",
      "Epoch 6/35\n",
      "938/938 [==============================] - 2s 2ms/step - loss: 0.3057 - accuracy: 0.8880\n",
      "Epoch 7/35\n",
      "938/938 [==============================] - 2s 2ms/step - loss: 0.2935 - accuracy: 0.8924\n",
      "Epoch 8/35\n",
      "938/938 [==============================] - 2s 2ms/step - loss: 0.2808 - accuracy: 0.8969\n",
      "Epoch 9/35\n",
      "938/938 [==============================] - 2s 2ms/step - loss: 0.2726 - accuracy: 0.8999\n",
      "Epoch 10/35\n",
      "938/938 [==============================] - 2s 2ms/step - loss: 0.2639 - accuracy: 0.9031\n",
      "Epoch 11/35\n",
      "938/938 [==============================] - 2s 2ms/step - loss: 0.2541 - accuracy: 0.9057\n",
      "Epoch 12/35\n",
      "938/938 [==============================] - 2s 2ms/step - loss: 0.2475 - accuracy: 0.9080\n",
      "Epoch 13/35\n",
      "938/938 [==============================] - 2s 2ms/step - loss: 0.2400 - accuracy: 0.9117\n",
      "Epoch 14/35\n",
      "938/938 [==============================] - 2s 2ms/step - loss: 0.2331 - accuracy: 0.9144\n",
      "Epoch 15/35\n",
      "938/938 [==============================] - 2s 2ms/step - loss: 0.2281 - accuracy: 0.9155\n",
      "Epoch 16/35\n",
      "938/938 [==============================] - 2s 2ms/step - loss: 0.2186 - accuracy: 0.9189\n",
      "Epoch 17/35\n",
      "938/938 [==============================] - 2s 2ms/step - loss: 0.2142 - accuracy: 0.9207\n",
      "Epoch 18/35\n",
      "938/938 [==============================] - 2s 2ms/step - loss: 0.2094 - accuracy: 0.9216\n",
      "Epoch 19/35\n",
      "938/938 [==============================] - 2s 2ms/step - loss: 0.2029 - accuracy: 0.9240\n",
      "Epoch 20/35\n",
      "938/938 [==============================] - 2s 2ms/step - loss: 0.1985 - accuracy: 0.9263\n",
      "Epoch 21/35\n",
      "938/938 [==============================] - 2s 3ms/step - loss: 0.1939 - accuracy: 0.9294\n",
      "Epoch 22/35\n",
      "938/938 [==============================] - 2s 2ms/step - loss: 0.1889 - accuracy: 0.9297\n",
      "Epoch 23/35\n",
      "938/938 [==============================] - 2s 2ms/step - loss: 0.1835 - accuracy: 0.9326\n",
      "Epoch 24/35\n",
      "938/938 [==============================] - 2s 2ms/step - loss: 0.1787 - accuracy: 0.9338\n",
      "Epoch 25/35\n",
      "938/938 [==============================] - 2s 2ms/step - loss: 0.1755 - accuracy: 0.9344\n",
      "Epoch 26/35\n",
      "938/938 [==============================] - 2s 2ms/step - loss: 0.1710 - accuracy: 0.9362\n",
      "Epoch 27/35\n",
      "938/938 [==============================] - 2s 2ms/step - loss: 0.1663 - accuracy: 0.9379\n",
      "Epoch 28/35\n",
      "938/938 [==============================] - 2s 2ms/step - loss: 0.1629 - accuracy: 0.9397\n",
      "Epoch 29/35\n",
      "938/938 [==============================] - 2s 2ms/step - loss: 0.1584 - accuracy: 0.9407\n",
      "Epoch 30/35\n",
      "938/938 [==============================] - 2s 2ms/step - loss: 0.1539 - accuracy: 0.9424\n",
      "Epoch 31/35\n",
      "938/938 [==============================] - 2s 2ms/step - loss: 0.1506 - accuracy: 0.9437\n",
      "Epoch 32/35\n",
      "938/938 [==============================] - 2s 2ms/step - loss: 0.1471 - accuracy: 0.9446\n",
      "Epoch 33/35\n",
      "938/938 [==============================] - 2s 2ms/step - loss: 0.1459 - accuracy: 0.9456\n",
      "Epoch 34/35\n",
      "938/938 [==============================] - 2s 2ms/step - loss: 0.1423 - accuracy: 0.9469\n",
      "Epoch 35/35\n",
      "938/938 [==============================] - 2s 2ms/step - loss: 0.1376 - accuracy: 0.9483\n"
     ]
    },
    {
     "data": {
      "text/plain": [
       "<keras.callbacks.History at 0x1f310d92650>"
      ]
     },
     "execution_count": 7,
     "metadata": {},
     "output_type": "execute_result"
    }
   ],
   "source": [
    "model.fit(train_images, train_labels, epochs=35, batch_size=64)"
   ]
  },
  {
   "cell_type": "code",
   "execution_count": 8,
   "id": "0dcb8c89",
   "metadata": {
    "scrolled": true
   },
   "outputs": [
    {
     "name": "stdout",
     "output_type": "stream",
     "text": [
      "313/313 [==============================] - 1s 1ms/step - loss: 0.3304 - accuracy: 0.8958\n",
      "Test accuracy: 0.895799994468689\n"
     ]
    }
   ],
   "source": [
    "test_loss, test_acc = model.evaluate(test_images, test_labels)\n",
    "print('Test accuracy:', test_acc)"
   ]
  },
  {
   "cell_type": "code",
   "execution_count": null,
   "id": "18ed6af8",
   "metadata": {},
   "outputs": [],
   "source": []
  }
 ],
 "metadata": {
  "kernelspec": {
   "display_name": "Python 3 (ipykernel)",
   "language": "python",
   "name": "python3"
  },
  "language_info": {
   "codemirror_mode": {
    "name": "ipython",
    "version": 3
   },
   "file_extension": ".py",
   "mimetype": "text/x-python",
   "name": "python",
   "nbconvert_exporter": "python",
   "pygments_lexer": "ipython3",
   "version": "3.10.9"
  }
 },
 "nbformat": 4,
 "nbformat_minor": 5
}
