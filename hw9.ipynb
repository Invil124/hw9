{
 "cells": [
  {
   "cell_type": "code",
   "execution_count": 1,
   "id": "2d86d739",
   "metadata": {},
   "outputs": [],
   "source": [
    "import numpy as np\n",
    "from tensorflow import keras\n",
    "from keras import regularizers"
   ]
  },
  {
   "cell_type": "code",
   "execution_count": 2,
   "id": "d24b85be",
   "metadata": {},
   "outputs": [],
   "source": [
    "fashion_mnist = keras.datasets.fashion_mnist\n",
    "(train_images, train_labels), (test_images, test_labels) = fashion_mnist.load_data()"
   ]
  },
  {
   "cell_type": "code",
   "execution_count": 3,
   "id": "5b87577f",
   "metadata": {},
   "outputs": [],
   "source": [
    "train_images = train_images / 255.0\n",
    "test_images = test_images / 255.0"
   ]
  },
  {
   "cell_type": "code",
   "execution_count": 4,
   "id": "345f2169",
   "metadata": {},
   "outputs": [],
   "source": [
    "model = keras.Sequential([\n",
    "    keras.layers.Flatten(input_shape=(28, 28)),\n",
    "    keras.layers.Dense(256, activation='relu'),\n",
    "    keras.layers.Dense(128, activation='relu'),\n",
    "    keras.layers.Dropout(0.5),\n",
    "    keras.layers.Dense(10, activation='softmax')\n",
    "])"
   ]
  },
  {
   "cell_type": "code",
   "execution_count": 5,
   "id": "a9ba2240",
   "metadata": {
    "scrolled": true
   },
   "outputs": [],
   "source": [
    "model.compile(optimizer='Adamax',\n",
    "              loss='sparse_categorical_crossentropy',\n",
    "              metrics=['accuracy'])"
   ]
  },
  {
   "cell_type": "code",
   "execution_count": 9,
   "id": "db91340a",
   "metadata": {
    "scrolled": false
   },
   "outputs": [
    {
     "name": "stdout",
     "output_type": "stream",
     "text": [
      "Epoch 1/35\n",
      "938/938 [==============================] - 2s 2ms/step - loss: 0.1749 - accuracy: 0.9349\n",
      "Epoch 2/35\n",
      "938/938 [==============================] - 2s 2ms/step - loss: 0.1688 - accuracy: 0.9370\n",
      "Epoch 3/35\n",
      "938/938 [==============================] - 2s 2ms/step - loss: 0.1683 - accuracy: 0.9376\n",
      "Epoch 4/35\n",
      "938/938 [==============================] - 2s 2ms/step - loss: 0.1663 - accuracy: 0.9370\n",
      "Epoch 5/35\n",
      "938/938 [==============================] - 2s 2ms/step - loss: 0.1608 - accuracy: 0.9413\n",
      "Epoch 6/35\n",
      "938/938 [==============================] - 2s 2ms/step - loss: 0.1577 - accuracy: 0.9411\n",
      "Epoch 7/35\n",
      "938/938 [==============================] - 2s 2ms/step - loss: 0.1574 - accuracy: 0.9408\n",
      "Epoch 8/35\n",
      "938/938 [==============================] - 2s 2ms/step - loss: 0.1532 - accuracy: 0.9428\n",
      "Epoch 9/35\n",
      "938/938 [==============================] - 2s 2ms/step - loss: 0.1508 - accuracy: 0.9424\n",
      "Epoch 10/35\n",
      "938/938 [==============================] - 2s 2ms/step - loss: 0.1475 - accuracy: 0.9451\n",
      "Epoch 11/35\n",
      "938/938 [==============================] - 2s 2ms/step - loss: 0.1467 - accuracy: 0.9450\n",
      "Epoch 12/35\n",
      "938/938 [==============================] - 2s 2ms/step - loss: 0.1434 - accuracy: 0.9467\n",
      "Epoch 13/35\n",
      "938/938 [==============================] - 2s 2ms/step - loss: 0.1403 - accuracy: 0.9473\n",
      "Epoch 14/35\n",
      "938/938 [==============================] - 2s 2ms/step - loss: 0.1374 - accuracy: 0.9479\n",
      "Epoch 15/35\n",
      "938/938 [==============================] - 2s 2ms/step - loss: 0.1367 - accuracy: 0.9483\n",
      "Epoch 16/35\n",
      "938/938 [==============================] - 2s 2ms/step - loss: 0.1334 - accuracy: 0.9498\n",
      "Epoch 17/35\n",
      "938/938 [==============================] - 2s 2ms/step - loss: 0.1316 - accuracy: 0.9514\n",
      "Epoch 18/35\n",
      "938/938 [==============================] - 2s 2ms/step - loss: 0.1300 - accuracy: 0.9510\n",
      "Epoch 19/35\n",
      "938/938 [==============================] - 2s 2ms/step - loss: 0.1266 - accuracy: 0.9533\n",
      "Epoch 20/35\n",
      "938/938 [==============================] - 2s 2ms/step - loss: 0.1233 - accuracy: 0.9540\n",
      "Epoch 21/35\n",
      "938/938 [==============================] - 2s 2ms/step - loss: 0.1203 - accuracy: 0.9549\n",
      "Epoch 22/35\n",
      "938/938 [==============================] - 2s 2ms/step - loss: 0.1195 - accuracy: 0.9554\n",
      "Epoch 23/35\n",
      "938/938 [==============================] - 2s 2ms/step - loss: 0.1178 - accuracy: 0.9561\n",
      "Epoch 24/35\n",
      "938/938 [==============================] - 2s 2ms/step - loss: 0.1164 - accuracy: 0.9567\n",
      "Epoch 25/35\n",
      "938/938 [==============================] - 2s 2ms/step - loss: 0.1132 - accuracy: 0.9572\n",
      "Epoch 26/35\n",
      "938/938 [==============================] - 2s 2ms/step - loss: 0.1104 - accuracy: 0.9586\n",
      "Epoch 27/35\n",
      "938/938 [==============================] - 2s 2ms/step - loss: 0.1119 - accuracy: 0.9581\n",
      "Epoch 28/35\n",
      "938/938 [==============================] - 2s 2ms/step - loss: 0.1076 - accuracy: 0.9594\n",
      "Epoch 29/35\n",
      "938/938 [==============================] - 2s 2ms/step - loss: 0.1044 - accuracy: 0.9612\n",
      "Epoch 30/35\n",
      "938/938 [==============================] - 2s 2ms/step - loss: 0.1048 - accuracy: 0.9603\n",
      "Epoch 31/35\n",
      "938/938 [==============================] - 2s 2ms/step - loss: 0.1026 - accuracy: 0.9618\n",
      "Epoch 32/35\n",
      "938/938 [==============================] - 2s 2ms/step - loss: 0.1000 - accuracy: 0.9624\n",
      "Epoch 33/35\n",
      "938/938 [==============================] - 2s 2ms/step - loss: 0.0993 - accuracy: 0.9630\n",
      "Epoch 34/35\n",
      "938/938 [==============================] - 2s 2ms/step - loss: 0.0976 - accuracy: 0.9637\n",
      "Epoch 35/35\n",
      "938/938 [==============================] - 2s 2ms/step - loss: 0.0950 - accuracy: 0.9642\n"
     ]
    },
    {
     "data": {
      "text/plain": [
       "<keras.callbacks.History at 0x14911a90520>"
      ]
     },
     "execution_count": 9,
     "metadata": {},
     "output_type": "execute_result"
    }
   ],
   "source": [
    "model.fit(train_images, train_labels, epochs=35, batch_size=64)"
   ]
  },
  {
   "cell_type": "code",
   "execution_count": 10,
   "id": "0dcb8c89",
   "metadata": {
    "scrolled": true
   },
   "outputs": [
    {
     "name": "stdout",
     "output_type": "stream",
     "text": [
      "313/313 [==============================] - 0s 1ms/step - loss: 0.3999 - accuracy: 0.9001\n",
      "Test accuracy: 0.9000999927520752\n"
     ]
    }
   ],
   "source": [
    "test_loss, test_acc = model.evaluate(test_images, test_labels)\n",
    "print('Test accuracy:', test_acc)"
   ]
  }
 ],
 "metadata": {
  "kernelspec": {
   "display_name": "Python 3 (ipykernel)",
   "language": "python",
   "name": "python3"
  },
  "language_info": {
   "codemirror_mode": {
    "name": "ipython",
    "version": 3
   },
   "file_extension": ".py",
   "mimetype": "text/x-python",
   "name": "python",
   "nbconvert_exporter": "python",
   "pygments_lexer": "ipython3",
   "version": "3.10.9"
  }
 },
 "nbformat": 4,
 "nbformat_minor": 5
}
